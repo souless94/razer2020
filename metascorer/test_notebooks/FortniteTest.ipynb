{
 "cells": [
  {
   "cell_type": "code",
   "execution_count": 1,
   "metadata": {},
   "outputs": [],
   "source": [
    "import requests"
   ]
  },
  {
   "cell_type": "code",
   "execution_count": 3,
   "metadata": {},
   "outputs": [],
   "source": [
    "fortnite_key = \"8954ce57-a687c6b7-93e484e5-e0fd7193\""
   ]
  },
  {
   "cell_type": "code",
   "execution_count": 5,
   "metadata": {},
   "outputs": [],
   "source": [
    "headers = {\"Authorization\": fortnite_key}"
   ]
  },
  {
   "cell_type": "code",
   "execution_count": 6,
   "metadata": {},
   "outputs": [
    {
     "data": {
      "text/plain": [
       "<Response [200]>"
      ]
     },
     "execution_count": 6,
     "metadata": {},
     "output_type": "execute_result"
    }
   ],
   "source": [
    "test_player = requests.get(\"https://fortniteapi.io/stats?account=4735ce9132924caf8a5b17789b40f79c\", headers = header)\n",
    "test_player"
   ]
  },
  {
   "cell_type": "code",
   "execution_count": 7,
   "metadata": {
    "scrolled": false
   },
   "outputs": [
    {
     "data": {
      "text/plain": [
       "{'result': True,\n",
       " 'source': 'cache',\n",
       " 'mode': 'all',\n",
       " 'name': 'Ninja',\n",
       " 'account': {'level': 192, 'progress_pct': 16},\n",
       " 'global_stats': {'duo': {'placetop1': 2629,\n",
       "   'kd': 9.15,\n",
       "   'winrate': 0.3655,\n",
       "   'placetop3': 0,\n",
       "   'placetop5': 3384,\n",
       "   'placetop6': 0,\n",
       "   'placetop10': 0,\n",
       "   'placetop12': 4172,\n",
       "   'placetop25': 0,\n",
       "   'kills': 41764,\n",
       "   'matchesplayed': 7193,\n",
       "   'minutesplayed': 36152,\n",
       "   'score': 1185915,\n",
       "   'playersoutlived': 189766},\n",
       "  'solo': {'placetop1': 2247,\n",
       "   'kd': 9.72,\n",
       "   'winrate': 0.3114,\n",
       "   'placetop3': 0,\n",
       "   'placetop5': 0,\n",
       "   'placetop6': 0,\n",
       "   'placetop10': 3169,\n",
       "   'placetop12': 0,\n",
       "   'placetop25': 3964,\n",
       "   'kills': 48282,\n",
       "   'matchesplayed': 7216,\n",
       "   'minutesplayed': 18299,\n",
       "   'score': 638570,\n",
       "   'playersoutlived': 114448},\n",
       "  'squad': {'placetop1': 2789,\n",
       "   'kd': 9.82,\n",
       "   'winrate': 0.378,\n",
       "   'placetop3': 3285,\n",
       "   'placetop5': 0,\n",
       "   'placetop6': 3867,\n",
       "   'placetop10': 0,\n",
       "   'placetop12': 0,\n",
       "   'placetop25': 0,\n",
       "   'kills': 45053,\n",
       "   'matchesplayed': 7378,\n",
       "   'minutesplayed': 34855,\n",
       "   'score': 1318219,\n",
       "   'playersoutlived': 195252}},\n",
       " 'per_input': {'keyboardmouse': {'duo': {'placetop1': 2625,\n",
       "    'placetop3': 0,\n",
       "    'placetop5': 3378,\n",
       "    'placetop6': 0,\n",
       "    'placetop10': 0,\n",
       "    'placetop12': 4161,\n",
       "    'placetop25': 0,\n",
       "    'kills': 41673,\n",
       "    'matchesplayed': 7177,\n",
       "    'minutesplayed': 35973,\n",
       "    'score': 1179598,\n",
       "    'playersoutlived': 188681,\n",
       "    'kd': 9.15,\n",
       "    'winrate': 0.3658},\n",
       "   'solo': {'placetop1': 2246,\n",
       "    'placetop3': 0,\n",
       "    'placetop5': 0,\n",
       "    'placetop6': 0,\n",
       "    'placetop10': 3167,\n",
       "    'placetop12': 0,\n",
       "    'placetop25': 3957,\n",
       "    'kills': 48233,\n",
       "    'matchesplayed': 7177,\n",
       "    'minutesplayed': 18195,\n",
       "    'score': 635236,\n",
       "    'playersoutlived': 113450,\n",
       "    'kd': 9.78,\n",
       "    'winrate': 0.3129},\n",
       "   'squad': {'placetop1': 2787,\n",
       "    'placetop3': 3283,\n",
       "    'placetop5': 0,\n",
       "    'placetop6': 3865,\n",
       "    'placetop10': 0,\n",
       "    'placetop12': 0,\n",
       "    'placetop25': 0,\n",
       "    'kills': 45022,\n",
       "    'matchesplayed': 7374,\n",
       "    'minutesplayed': 34811,\n",
       "    'score': 1316505,\n",
       "    'playersoutlived': 194980,\n",
       "    'kd': 9.82,\n",
       "    'winrate': 0.3779}},\n",
       "  'gamepad': {'duo': {'placetop1': 4,\n",
       "    'placetop3': 0,\n",
       "    'placetop5': 6,\n",
       "    'placetop6': 0,\n",
       "    'placetop10': 0,\n",
       "    'placetop12': 11,\n",
       "    'placetop25': 0,\n",
       "    'kills': 91,\n",
       "    'matchesplayed': 16,\n",
       "    'minutesplayed': 179,\n",
       "    'score': 6317,\n",
       "    'playersoutlived': 1085,\n",
       "    'kd': 7.58,\n",
       "    'winrate': 0.25},\n",
       "   'squad': {'placetop1': 2,\n",
       "    'placetop3': 2,\n",
       "    'placetop5': 0,\n",
       "    'placetop6': 2,\n",
       "    'placetop10': 0,\n",
       "    'placetop12': 0,\n",
       "    'placetop25': 0,\n",
       "    'kills': 31,\n",
       "    'matchesplayed': 4,\n",
       "    'minutesplayed': 44,\n",
       "    'score': 1714,\n",
       "    'playersoutlived': 272,\n",
       "    'kd': 15.5,\n",
       "    'winrate': 0.5},\n",
       "   'solo': {'placetop1': 1,\n",
       "    'placetop3': 0,\n",
       "    'placetop5': 0,\n",
       "    'placetop6': 0,\n",
       "    'placetop10': 2,\n",
       "    'placetop12': 0,\n",
       "    'placetop25': 4,\n",
       "    'kills': 45,\n",
       "    'matchesplayed': 20,\n",
       "    'minutesplayed': 90,\n",
       "    'score': 3118,\n",
       "    'playersoutlived': 844,\n",
       "    'kd': 2.37,\n",
       "    'winrate': 0.05}},\n",
       "  'touch': {'solo': {'placetop1': 0,\n",
       "    'placetop3': 0,\n",
       "    'placetop5': 0,\n",
       "    'placetop6': 0,\n",
       "    'placetop10': 0,\n",
       "    'placetop12': 0,\n",
       "    'placetop25': 3,\n",
       "    'kills': 4,\n",
       "    'matchesplayed': 19,\n",
       "    'minutesplayed': 14,\n",
       "    'score': 216,\n",
       "    'playersoutlived': 154,\n",
       "    'kd': 0.21,\n",
       "    'winrate': 0}}},\n",
       " 'seasons_available': [12],\n",
       " 'season': 'all'}"
      ]
     },
     "execution_count": 7,
     "metadata": {},
     "output_type": "execute_result"
    }
   ],
   "source": [
    "test_player.json()"
   ]
  },
  {
   "cell_type": "code",
   "execution_count": 8,
   "metadata": {},
   "outputs": [
    {
     "data": {
      "text/plain": [
       "{'result': True, 'account_id': '4735ce9132924caf8a5b17789b40f79c'}"
      ]
     },
     "execution_count": 8,
     "metadata": {},
     "output_type": "execute_result"
    }
   ],
   "source": [
    "ninja = requests.get('https://fortniteapi.io/lookup?username=Ninja', headers = header)\n",
    "ninja.json()"
   ]
  },
  {
   "cell_type": "code",
   "execution_count": null,
   "metadata": {},
   "outputs": [],
   "source": [
    "test_player = requests.get(\"https://fortniteapi.io/stats?account=4735ce9132924caf8a5b17789b40f79c\", headers = header)\n",
    "test_player"
   ]
  }
 ],
 "metadata": {
  "kernelspec": {
   "display_name": "Python 3",
   "language": "python",
   "name": "python3"
  },
  "language_info": {
   "codemirror_mode": {
    "name": "ipython",
    "version": 3
   },
   "file_extension": ".py",
   "mimetype": "text/x-python",
   "name": "python",
   "nbconvert_exporter": "python",
   "pygments_lexer": "ipython3",
   "version": "3.6.5"
  }
 },
 "nbformat": 4,
 "nbformat_minor": 2
}
